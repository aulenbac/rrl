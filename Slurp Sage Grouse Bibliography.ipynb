{
 "cells": [
  {
   "cell_type": "markdown",
   "metadata": {},
   "source": [
    "This notebook runs through an experimental process to slurp up the Greater Sage Grouse Bibliography into a different data structure from its [web app](https://apps.usgs.gov/gsgbib/index.php) that we can then run some further processing on. There's probably a better way to do this by grabbing up the backend database, but this is a decent enough way to get started. Once we have the data in a usable backend, we can run other processes on the citations to assemble more info."
   ]
  },
  {
   "cell_type": "code",
   "execution_count": 1,
   "metadata": {
    "collapsed": true
   },
   "outputs": [],
   "source": [
    "import requests\n",
    "from bis2 import dd\n",
    "from datetime import datetime\n",
    "from bis import rrl\n",
    "import json\n",
    "import hashlib\n",
    "from bs4 import BeautifulSoup"
   ]
  },
  {
   "cell_type": "code",
   "execution_count": 2,
   "metadata": {
    "collapsed": true
   },
   "outputs": [],
   "source": [
    "bis = dd.getDB(\"bis\")\n",
    "collection_rrl = bis[\"RRL\"]\n",
    "collection_rrlAnnotations = bis[\"RRL Annotations\"]"
   ]
  },
  {
   "cell_type": "markdown",
   "metadata": {},
   "source": [
    "I initially tried to use BeautifulSoup to process the full set of citation details at https://apps.usgs.gov/gsgbib/5654e232e4b071e7ea53d6e1.php?page=5. However, that HTML output from the PHP app is so messy that this proved to be too weird to deal with quickly. I instead went to the simple list at https://apps.usgs.gov/gsgbib/5654e232e4b071e7ea53d6e1.php?page=0 and worked from there. It ended up being quicker to use a desktop tool I've messed with for web scraping (Outwit Hub) to just grab out the table and links as JSON and dumped that here locally for the basic start."
   ]
  },
  {
   "cell_type": "code",
   "execution_count": 3,
   "metadata": {
    "collapsed": true
   },
   "outputs": [],
   "source": [
    "sgBib = json.loads(open(\"gsgBibScrape.json\").read())"
   ]
  },
  {
   "cell_type": "markdown",
   "metadata": {},
   "source": [
    "The individual page outputs for each citation's set of annotations are pretty clear and easy to process, so this next process runs through and assembles those into usable data structures. I didn't do a lot of processing here on these yet as we're still working on what the annotation model should look like. Because we're using the MD5 hash of the citation string, we can simply use the citation string to tie the annotation back to the ID we put in the RRL collection."
   ]
  },
  {
   "cell_type": "code",
   "execution_count": 4,
   "metadata": {},
   "outputs": [
    {
     "name": "stdout",
     "output_type": "stream",
     "text": [
      "{'status': 'ok', '_id': '58219f9b42767011a13d7fd742cd5800', 'message': 'New citation registered.'}\n",
      "{'status': 'ok', '_id': 'da534ed6dbf0b10c8fab673c9d576aee', 'message': 'New citation registered.'}\n",
      "{'status': 'ok', '_id': '4648b1d47f0b7da63b6839479e152504', 'message': 'New citation registered.'}\n",
      "{'status': 'ok', '_id': 'c29e9bf477f5b55dc9bc59739ca8aa7c', 'message': 'New citation registered.'}\n",
      "{'status': 'ok', '_id': '9afcef0619428007646d518786cd2d52', 'message': 'New citation registered.'}\n",
      "{'status': 'ok', '_id': 'be80ee3df5a138c3ecaf9a70a63bc5b0', 'message': 'New citation registered.'}\n",
      "{'status': 'ok', '_id': '66bde082d6ac0f62a59a4f54082121d9', 'message': 'New citation registered.'}\n",
      "{'status': 'ok', '_id': 'ed31b6b46f3fd65acb61d3dbee761d0b', 'message': 'New citation registered.'}\n",
      "{'status': 'ok', '_id': '7fd3f6dc2fac17a5c1077efee4df5b3d', 'message': 'New citation registered.'}\n",
      "{'status': 'ok', '_id': '2695c0bc613bbcbfa894e681886bde43', 'message': 'New citation registered.'}\n",
      "{'status': 'ok', '_id': '6da6d9ac4b53c654b59a953d57e8b989', 'message': 'New citation registered.'}\n",
      "{'status': 'ok', '_id': 'ebbfd49fd9c78d3eea5bc58439eaec54', 'message': 'New citation registered.'}\n",
      "{'status': 'ok', '_id': '5949426a6718fbc1f018aa9fbdc0cd3d', 'message': 'New citation registered.'}\n",
      "{'status': 'ok', '_id': '51f101027f8208978440056281f04177', 'message': 'New citation registered.'}\n",
      "{'status': 'ok', '_id': 'ff2c4674cee9b38072c304c92f872cef', 'message': 'New citation registered.'}\n",
      "{'status': 'ok', '_id': '78aad22297e261dd3a312ff7362ced3c', 'message': 'New citation registered.'}\n",
      "{'status': 'ok', '_id': 'cfbcb1fb060e45daac7bc4bb7f2808ec', 'message': 'New citation registered.'}\n",
      "{'status': 'ok', '_id': '86b52364f7f9141ccd0e26693d3c32a5', 'message': 'New citation registered.'}\n",
      "{'status': 'ok', '_id': '8e052dae2e0b304ccc65a7460b5d2c97', 'message': 'New citation registered.'}\n",
      "{'status': 'ok', '_id': 'f43856f787fd6aaa05f9a4d6a3039b67', 'message': 'New citation registered.'}\n",
      "{'status': 'ok', '_id': '0e2ec4b40a3796ff4cfe6117e7f86581', 'message': 'New citation registered.'}\n",
      "{'status': 'ok', '_id': '5076f54f2fecb8934d4938705669b79e', 'message': 'New citation registered.'}\n",
      "{'status': 'ok', '_id': '7232e70aac9e5a9aa38bcfaed5f3ee58', 'message': 'New citation registered.'}\n",
      "{'status': 'ok', '_id': '2c28e86c578de58487a8ad42da008e20', 'message': 'New citation registered.'}\n",
      "{'status': 'ok', '_id': '740662afae4d423e68c2b40970ab04ae', 'message': 'New citation registered.'}\n",
      "{'status': 'ok', '_id': '6b0f98c089ad3c7d443bb5163be9ce07', 'message': 'New citation registered.'}\n",
      "{'status': 'ok', '_id': 'f34d44bd3e756a1129c0dabbdc3ed9a8', 'message': 'New citation registered.'}\n",
      "{'status': 'ok', '_id': '0cd71654b8718efb07c87fb62990ae67', 'message': 'New citation registered.'}\n",
      "{'status': 'ok', '_id': 'a82c00f724491a36668ee9396241ebfe', 'message': 'New citation registered.'}\n",
      "{'status': 'ok', '_id': 'c61e12c185923aed2cf01858b4c20ebe', 'message': 'New citation registered.'}\n",
      "{'status': 'ok', '_id': '0738a697841c46dec67f60cf8b03edbd', 'message': 'New citation registered.'}\n",
      "{'status': 'ok', '_id': 'dadb7669518a34a278f6562ad90df19f', 'message': 'New citation registered.'}\n",
      "{'status': 'ok', '_id': '632350d91c6124ef9f3a24f898f48f40', 'message': 'New citation registered.'}\n",
      "{'status': 'ok', '_id': '3789e253c453390d1083942ae948967a', 'message': 'New citation registered.'}\n",
      "{'status': 'ok', '_id': 'b9a51abd656c316394142a81609c13fe', 'message': 'New citation registered.'}\n",
      "{'status': 'ok', '_id': 'a1bdd3b64b92a75fdcf642cefb4656d6', 'message': 'New citation registered.'}\n",
      "{'status': 'ok', '_id': '889257377e06b73e75b2ea7127bdb38f', 'message': 'New citation registered.'}\n",
      "{'status': 'ok', '_id': '23b0a2052f21df73a9da549343c63e83', 'message': 'New citation registered.'}\n",
      "{'status': 'ok', '_id': '1e06d0b3bc2f603947ee140368066211', 'message': 'New citation registered.'}\n",
      "{'status': 'ok', '_id': '4c9b0775905c7404b7e2b7d7594c0941', 'message': 'New citation registered.'}\n",
      "{'status': 'ok', '_id': 'b86c773c58859bd83117a5bc9e1108fc', 'message': 'New citation registered.'}\n",
      "{'status': 'ok', '_id': '414f9f49a5a237bb96630c71dd587448', 'message': 'New citation registered.'}\n",
      "{'status': 'ok', '_id': 'c18b8313e35c5b475d926b6e824edb94', 'message': 'New citation registered.'}\n",
      "{'status': 'ok', '_id': '10e383846f7e524bb95acc5d8d780f7c', 'message': 'New citation registered.'}\n",
      "{'status': 'ok', '_id': 'e80ae0434c13b282a0c4cb0586ebf72f', 'message': 'New citation registered.'}\n",
      "{'status': 'ok', '_id': '75bf87492697b1c470039a8c8f51c920', 'message': 'New citation registered.'}\n",
      "{'status': 'ok', '_id': '91c92c9db6cc43c83f099d021c87fbb7', 'message': 'New citation registered.'}\n",
      "{'status': 'ok', '_id': '31abefe7d2c179b95592a735bd1f6754', 'message': 'New citation registered.'}\n",
      "{'status': 'ok', '_id': '999bb7e6aec4f9ed24767bf590e1f198', 'message': 'New citation registered.'}\n",
      "{'status': 'ok', '_id': 'bc772c7b64aaa13050e8e1bc475d436e', 'message': 'New citation registered.'}\n",
      "{'status': 'ok', '_id': '9fb05e69ece53cca1c7d2758f1e51d39', 'message': 'New citation registered.'}\n",
      "{'status': 'ok', '_id': '93648918ec6bfe6ad5659b8baf8d8b53', 'message': 'New citation registered.'}\n",
      "{'status': 'ok', '_id': 'e5345ee57a2b0faad60418818febb872', 'message': 'New citation registered.'}\n",
      "{'status': 'ok', '_id': 'fe309ebaa3f58a61beef6dfb6b66de16', 'message': 'New citation registered.'}\n",
      "{'status': 'ok', '_id': '430d5f5226a8388632b68f99b801958f', 'message': 'New citation registered.'}\n",
      "{'status': 'ok', '_id': 'f4a1a061bb72de26a18b41f09a22dda9', 'message': 'New citation registered.'}\n",
      "{'status': 'ok', '_id': 'c7fd3634676f8d195d869c359689c9c7', 'message': 'New citation registered.'}\n",
      "{'status': 'ok', '_id': 'b8ff1ad029665ba84370b8e2dea8daf6', 'message': 'New citation registered.'}\n",
      "{'status': 'ok', '_id': '05c6c691e7d01e35a462bb0ae2142122', 'message': 'New citation registered.'}\n",
      "{'status': 'ok', '_id': '31c90027a2b9b29cac776dba5bcefb94', 'message': 'New citation registered.'}\n",
      "{'status': 'ok', '_id': '8c8423e0483c19df77b0036ae4d0f543', 'message': 'New citation registered.'}\n",
      "{'status': 'ok', '_id': '088ff43310d9cbb669855a1c6df65b65', 'message': 'New citation registered.'}\n",
      "{'status': 'ok', '_id': '1ec83d24f3ee38a727ae7381d1163e93', 'message': 'New citation registered.'}\n",
      "{'status': 'ok', '_id': 'e0f4676ff17a47e789d040609190ad2b', 'message': 'New citation registered.'}\n",
      "{'status': 'ok', '_id': 'c3015c05ec28fe037e1f074e5bc7b4b4', 'message': 'New citation registered.'}\n",
      "{'status': 'ok', '_id': '0e4ed362c33c9048edeecb993d748c69', 'message': 'New citation registered.'}\n",
      "{'status': 'ok', '_id': '68ae29eb76d637ed50a3a10fa6e9e0a9', 'message': 'New citation registered.'}\n",
      "{'status': 'ok', '_id': '7f4f1b4d62158b5b51f52077ffe374e5', 'message': 'New citation registered.'}\n",
      "{'status': 'ok', '_id': 'dd08cb21409f0b2a3eb1398eecb5cd22', 'message': 'New citation registered.'}\n",
      "{'status': 'ok', '_id': 'fa24fe6f1741b194159507de8d4be0e0', 'message': 'New citation registered.'}\n",
      "{'status': 'ok', '_id': '8ec65dc3f9f003063eb6aebfdcb2f5b2', 'message': 'New citation registered.'}\n",
      "{'status': 'ok', '_id': '5dedfc1da201b1e5cc1f82e165490e42', 'message': 'New citation registered.'}\n",
      "{'status': 'ok', '_id': '179f2e76e9c3bd8852b00b3de6b013cc', 'message': 'New citation registered.'}\n",
      "{'status': 'ok', '_id': '047dbd703b678b248f2703b16d35bdf9', 'message': 'New citation registered.'}\n",
      "{'status': 'ok', '_id': '9f044b5ce7e5fd41b2c1dafc240c4928', 'message': 'New citation registered.'}\n",
      "{'status': 'ok', '_id': 'd95c393cb49d2bf5e6ba1a71451f9202', 'message': 'New citation registered.'}\n",
      "{'status': 'ok', '_id': 'f52b8908ef7e51aa539e8f30c02489be', 'message': 'New citation registered.'}\n",
      "{'status': 'ok', '_id': '84d5eafabae04baf4b4bbf1c9184b672', 'message': 'New citation registered.'}\n",
      "{'status': 'ok', '_id': 'e48e47ca8a83233f3d37ba791d9f1a0b', 'message': 'New citation registered.'}\n",
      "{'status': 'ok', '_id': '3d09901d517632cefbeed75b7b5ca8da', 'message': 'New citation registered.'}\n",
      "{'status': 'ok', '_id': '3364e1c0311b36c069a470c500854a41', 'message': 'New citation registered.'}\n",
      "{'status': 'ok', '_id': 'b39fccc8db2ecc769ad91ec76501abd6', 'message': 'New citation registered.'}\n",
      "{'status': 'ok', '_id': '77859159474bdcd8f511af047c235b0b', 'message': 'New citation registered.'}\n"
     ]
    },
    {
     "name": "stdout",
     "output_type": "stream",
     "text": [
      "{'status': 'ok', '_id': '8a591b8ea59116cd2f8e6a5a769ee154', 'message': 'New citation registered.'}\n",
      "{'status': 'ok', '_id': 'd14df7012762f659392000d851aacf70', 'message': 'New citation registered.'}\n",
      "{'status': 'ok', '_id': 'b5ea81afe672fdabba6bef71b4ff52d1', 'message': 'New citation registered.'}\n",
      "{'status': 'ok', '_id': '120918f43def2f617ada12af465fe607', 'message': 'New citation registered.'}\n",
      "{'status': 'ok', '_id': '0f5341981a932b57217cba5f976af3d4', 'message': 'New citation registered.'}\n",
      "{'status': 'ok', '_id': '7a1e3b6faf0ee58f6c742b36b5cb3755', 'message': 'New citation registered.'}\n",
      "{'status': 'ok', '_id': 'e816e6ed12fb93fe388046de600ed1e0', 'message': 'New citation registered.'}\n",
      "{'status': 'ok', '_id': 'f6c4acb7b7ce8033740833ce92a52bc3', 'message': 'New citation registered.'}\n",
      "{'status': 'ok', '_id': 'd2322e27d44bd774ee412bae0fe2dea6', 'message': 'New citation registered.'}\n",
      "{'status': 'ok', '_id': '7221368555a9a809691b442c12be20b6', 'message': 'New citation registered.'}\n",
      "{'status': 'ok', '_id': '5bae607e430e5c1b080f00aeac1b310f', 'message': 'New citation registered.'}\n",
      "{'status': 'ok', '_id': 'a96cdd3f82742e5c5f80e6b635642657', 'message': 'New citation registered.'}\n",
      "{'status': 'ok', '_id': '9f6352251c735855e5f7674a79ab100a', 'message': 'New citation registered.'}\n",
      "{'status': 'ok', '_id': '42895c2319090bf21c85eb5e0d3110eb', 'message': 'New citation registered.'}\n",
      "{'status': 'ok', '_id': '84b37e49c77d7e0bba41eae71db02d06', 'message': 'New citation registered.'}\n",
      "{'status': 'ok', '_id': '09b926bb19bed4ddacb04d4c1b448c13', 'message': 'New citation registered.'}\n",
      "{'status': 'ok', '_id': '3c818925953c496c69f60a64284c885e', 'message': 'New citation registered.'}\n",
      "{'status': 'ok', '_id': '068cd34cd13b20b4b491cfc38667f332', 'message': 'New citation registered.'}\n",
      "{'status': 'ok', '_id': 'edabbd9eeb1143f8360fd93d571a9bd4', 'message': 'New citation registered.'}\n",
      "{'status': 'ok', '_id': 'e629e5d07c329a81e82648496fd151db', 'message': 'New citation registered.'}\n",
      "{'status': 'ok', '_id': '3a77905a9b0267858a5689517a8ebf19', 'message': 'New citation registered.'}\n",
      "{'status': 'ok', '_id': '9c5c715b0766e09fc7fc894e6cbcaac9', 'message': 'New citation registered.'}\n",
      "{'status': 'ok', '_id': '6969b2e2e0330a3ef9d05a7bd8830bfb', 'message': 'New citation registered.'}\n",
      "{'status': 'ok', '_id': 'd9a7df49ec045ad7e0495a7bc712ab0f', 'message': 'New citation registered.'}\n",
      "{'status': 'ok', '_id': '926c1644ab8c01cf7d0e0cf281e08664', 'message': 'New citation registered.'}\n",
      "{'status': 'ok', '_id': '2b77e59c4b39c4ede0c68c8f3571d5d6', 'message': 'New citation registered.'}\n",
      "{'status': 'ok', '_id': '2e3085d0389d37a1fd3a1558818d3893', 'message': 'New citation registered.'}\n",
      "{'status': 'ok', '_id': '2fe6b1dd488f01fc37a20e283496d0f0', 'message': 'New citation registered.'}\n",
      "{'status': 'ok', '_id': '0decf7f35ddb1ab7ab27798c9a95cac4', 'message': 'New citation registered.'}\n",
      "{'status': 'ok', '_id': 'c54e0b8878a422b759bb558b645f5d12', 'message': 'New citation registered.'}\n",
      "{'status': 'ok', '_id': '1becd5baf781779f9989f6a5d11cdc39', 'message': 'New citation registered.'}\n",
      "{'status': 'ok', '_id': '8c6989cecb8d6d9764aa1fd9a8bcf66b', 'message': 'New citation registered.'}\n",
      "{'status': 'ok', '_id': 'aa8faabab16668fda85fec145819d742', 'message': 'New citation registered.'}\n",
      "{'status': 'ok', '_id': '45fd6556c3e5d56ebd0b0988fedac7df', 'message': 'New citation registered.'}\n",
      "{'status': 'ok', '_id': '064125581d4cd37958d97d784e1794a7', 'message': 'New citation registered.'}\n",
      "{'status': 'ok', '_id': 'c5f6320249ac0329614f6594494c8be9', 'message': 'New citation registered.'}\n",
      "{'status': 'ok', '_id': '71a6a39a31a8833de25e53b5cf01ebaf', 'message': 'New citation registered.'}\n",
      "{'status': 'ok', '_id': '6e28b1033b15b1cbc5175bbb76495389', 'message': 'New citation registered.'}\n",
      "{'status': 'ok', '_id': 'de4b91b127c29e04bca35778560eb9db', 'message': 'New citation registered.'}\n",
      "{'status': 'ok', '_id': '0759868acd9e0695eba57341d24589c9', 'message': 'New citation registered.'}\n",
      "{'status': 'ok', '_id': 'e5fa5733003951d2914272a0e2f36172', 'message': 'New citation registered.'}\n",
      "{'status': 'ok', '_id': 'a25fd243ab61da964d8b6200acb3d4fc', 'message': 'New citation registered.'}\n",
      "{'status': 'ok', '_id': 'a6becfc59cfd8b7e1c0b95dd98eee3d4', 'message': 'New citation registered.'}\n",
      "{'status': 'ok', '_id': '6da89ea7e5fb86a5b8c96881be1c5e9c', 'message': 'New citation registered.'}\n",
      "{'status': 'ok', '_id': '1b81d7d6a866335ca8119c5940915d89', 'message': 'New citation registered.'}\n",
      "{'status': 'ok', '_id': 'dc78f9a23b2110d5b3f12269bbb1ab79', 'message': 'New citation registered.'}\n",
      "{'status': 'ok', '_id': '3a78917b51fc0d1b3547cbca08ca7974', 'message': 'New citation registered.'}\n",
      "{'status': 'ok', '_id': '34a59c5580254d6577833f67d1d14c14', 'message': 'New citation registered.'}\n",
      "{'status': 'ok', '_id': '0d6225413ba7b8b57cb8c262720d99ec', 'message': 'New citation registered.'}\n",
      "{'status': 'ok', '_id': '40fa5d6a5c2022863b2bd7972ad84cfd', 'message': 'New citation registered.'}\n",
      "{'status': 'ok', '_id': 'dc276f401c3a195f8913bdac5176ac4b', 'message': 'New citation registered.'}\n",
      "{'status': 'ok', '_id': 'cf3d84958307d9306a4bdbaf70e54b82', 'message': 'New citation registered.'}\n",
      "{'status': 'ok', '_id': '75f9eca5972ec21b836a1ff28205e12f', 'message': 'New citation registered.'}\n",
      "{'status': 'ok', '_id': '619668dd3673fc70f627c4bf78bbcf7d', 'message': 'New citation registered.'}\n",
      "{'status': 'ok', '_id': '5906f9bce59e4f884404f45713e34b29', 'message': 'New citation registered.'}\n",
      "{'status': 'ok', '_id': 'b659162fdf22e7a0898822cd6db9ca66', 'message': 'New citation registered.'}\n",
      "{'status': 'ok', '_id': 'eb1ec79269cb140f4910bc0fc8591894', 'message': 'New citation registered.'}\n",
      "{'status': 'ok', '_id': 'b08e8cf79d59cb4ecc53b91fd1891165', 'message': 'New citation registered.'}\n",
      "{'status': 'ok', '_id': 'de346d5c903c47cd8ff74ab624dce8c0', 'message': 'New citation registered.'}\n",
      "{'status': 'ok', '_id': 'b3070d9cd25b18f43d3961e30bbf7520', 'message': 'New citation registered.'}\n",
      "{'status': 'ok', '_id': '6e2f0dc5b1fc74b1fc5fba8233e83dba', 'message': 'New citation registered.'}\n",
      "{'status': 'ok', '_id': '38bde6a5ee18536945ea9f482c9c752e', 'message': 'New citation registered.'}\n",
      "{'status': 'ok', '_id': '5dad14ac14fd325bc055d7afb8fc133a', 'message': 'New citation registered.'}\n",
      "{'status': 'ok', '_id': '252fbee970148970108cac3cc7a8225a', 'message': 'New citation registered.'}\n",
      "{'status': 'ok', '_id': '2e38c656dd05449c87e3db01a3e13584', 'message': 'New citation registered.'}\n",
      "{'status': 'ok', '_id': 'c4f21805461a40032ef81883e33abda3', 'message': 'New citation registered.'}\n",
      "{'status': 'ok', '_id': '5fba38d22d069adaed61989674b28228', 'message': 'New citation registered.'}\n",
      "{'status': 'ok', '_id': '21a0fce00c1792ba9d7cf99b3d617517', 'message': 'New citation registered.'}\n",
      "{'status': 'ok', '_id': 'bf9f83edba25d82d1569fd4f5aa175a6', 'message': 'New citation registered.'}\n",
      "{'status': 'ok', '_id': '40ebf5c1a6b7ff06e2dcff07cd64fb48', 'message': 'New citation registered.'}\n",
      "{'status': 'ok', '_id': '5173e55b8a66bfec92205624fb8b1826', 'message': 'New citation registered.'}\n",
      "{'status': 'ok', '_id': '8fca4a30ac8161b09021e1d3eb56df19', 'message': 'New citation registered.'}\n",
      "{'status': 'ok', '_id': '9c832f196374a2e425cf277964bc869a', 'message': 'New citation registered.'}\n",
      "{'status': 'ok', '_id': 'f5efb0d66b48e0a29e3a929d4a5dc4da', 'message': 'New citation registered.'}\n",
      "{'status': 'ok', '_id': '5d85b3d04e1dc8ccebcda16430d525b1', 'message': 'New citation registered.'}\n",
      "{'status': 'ok', '_id': '39f44eb542d3c135a54d1523060f9a03', 'message': 'New citation registered.'}\n",
      "{'status': 'ok', '_id': 'adc965522b4a3cc974f25f9389128a35', 'message': 'New citation registered.'}\n",
      "{'status': 'ok', '_id': '17b5e2f8b6e18bd16acb8915de26d292', 'message': 'New citation registered.'}\n",
      "{'status': 'ok', '_id': 'dbd9b6287d19711bec314e35db90932f', 'message': 'New citation registered.'}\n",
      "{'status': 'ok', '_id': '05663a7193e30749091fd06b70ec4110', 'message': 'New citation registered.'}\n",
      "{'status': 'ok', '_id': '4645681dfb3e9e4e60cabe94d78373a2', 'message': 'New citation registered.'}\n",
      "{'status': 'ok', '_id': '7245d819ffc49cc93b61f695c842c7e9', 'message': 'New citation registered.'}\n",
      "{'status': 'ok', '_id': '912df768765794cb023552d8b3ac0075', 'message': 'New citation registered.'}\n"
     ]
    },
    {
     "name": "stdout",
     "output_type": "stream",
     "text": [
      "{'status': 'ok', '_id': '922b6e538673111b0a259a1b20acf95b', 'message': 'New citation registered.'}\n"
     ]
    }
   ],
   "source": [
    "gsgBibURL = \"https://apps.usgs.gov/gsgbib/5654e232e4b071e7ea53d6e1.php?page=0\"\n",
    "\n",
    "for citation in sgBib:\n",
    "    citationID = hashlib.md5(citation[\"Citation\"].encode()).hexdigest()\n",
    "    annotationStub = {}\n",
    "    annotationStub[\"target\"] = \"rrl:\"+citationID\n",
    "    annotationStub[\"datetime\"] = datetime.utcnow().isoformat()\n",
    "    annotationStub[\"source\"] = citation[\"Url\"]\n",
    "\n",
    "    thisAnnotations = []\n",
    "    \n",
    "    annotationSoup = BeautifulSoup(requests.get(citation[\"Url\"]).text, \"lxml\")\n",
    "    annotationSection = annotationSoup.find(\"div\", {\"class\": \"ss-form-container\"})\n",
    "\n",
    "    for section in annotationSection.findAll(\"div\", {\"class\":\"ss-form\"})[1].findAll(\"p\"):\n",
    "        sectionHeader = section.find(\"strong\")\n",
    "        if sectionHeader is not None:\n",
    "            sectionLabel = sectionHeader.get_text()\n",
    "            sectionContent = section.get_text().split(sectionHeader.get_text()+\": \")[1]\n",
    "            if sectionLabel == \"Topics\":\n",
    "                sectionContent = sectionContent.split(\", \")\n",
    "            thisAnnotation = {\"type\":sectionLabel,\"body\":sectionContent}\n",
    "            thisAnnotations.append({**annotationStub, **thisAnnotation})\n",
    "        \n",
    "    try:\n",
    "        for link in annotationSection.findAll(\"div\", {\"class\":\"ss-form\"})[1].findAll(\"a\", {\"target\":\"_new\"}):\n",
    "            citationLink = link[\"href\"]\n",
    "    except:\n",
    "        citationLink = None\n",
    "    \n",
    "    print (rrl.ResearchReferenceLibrary.register_citation(collection_rrl, citation[\"Citation\"], gsgBibURL, citationLink))\n",
    "    collection_rrlAnnotations.insert_many(thisAnnotations)\n"
   ]
  },
  {
   "cell_type": "code",
   "execution_count": null,
   "metadata": {
    "collapsed": true
   },
   "outputs": [],
   "source": []
  }
 ],
 "metadata": {
  "kernelspec": {
   "display_name": "Python 3",
   "language": "python",
   "name": "python3"
  },
  "language_info": {
   "codemirror_mode": {
    "name": "ipython",
    "version": 3
   },
   "file_extension": ".py",
   "mimetype": "text/x-python",
   "name": "python",
   "nbconvert_exporter": "python",
   "pygments_lexer": "ipython3",
   "version": "3.6.3"
  }
 },
 "nbformat": 4,
 "nbformat_minor": 2
}
