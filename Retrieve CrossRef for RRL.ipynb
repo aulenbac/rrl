{
 "cells": [
  {
   "cell_type": "markdown",
   "metadata": {},
   "source": [
    "CrossRef and their API give us a bunch of data to work with."
   ]
  },
  {
   "cell_type": "code",
   "execution_count": 1,
   "metadata": {
    "collapsed": true
   },
   "outputs": [],
   "source": [
    "from bis2 import dd\n",
    "from bis import rrl\n",
    "from datetime import datetime"
   ]
  },
  {
   "cell_type": "code",
   "execution_count": 2,
   "metadata": {
    "collapsed": true
   },
   "outputs": [],
   "source": [
    "bis = dd.getDB(\"bis\")\n",
    "collection_rrl = bis[\"RRL\"]"
   ]
  },
  {
   "cell_type": "code",
   "execution_count": 3,
   "metadata": {},
   "outputs": [
    {
     "name": "stdout",
     "output_type": "stream",
     "text": [
      "Apa, A.D., Thompson, T.R., and Reese, K.P., 2017, Juvenile greater sage-grouse survival, movements, and recruitment in Colorado: Journal of Wildlife Management, v. 81, no. 4, p. 652–668. 10.1002/jwmg.21230\n",
      "<pymongo.results.UpdateResult object at 0x113817a20>\n",
      "Balzotti, C.S., Kitchen, S.G., and McCarthy, C., 2016, Beyond the single species climate envelope—A multifaceted approach to mapping climate change vulnerability: Ecosphere, v. 7, no. 9, article e01444, 23 p., https://doi.org/10.1002/ecs2.1444. 10.1002/ecs2.1444\n",
      "<pymongo.results.UpdateResult object at 0x1138176c0>\n",
      "Bates, J.D., Davies, K.W., Hulet, A., Miller, R.F., and Roundy, B., 2017, Sage grouse groceries—Forb response to piñon-juniper treatments: Rangeland Ecology and Management, v. 70, no. 1, p. 106–115. 10.1016/j.rama.2016.04.004\n",
      "<pymongo.results.UpdateResult object at 0x1137f9900>\n",
      "Baumgardt, J.A., Reese, K.P., Connelly, J.W., and Garton, E.O., 2017, Visibility bias for sage-grouse lek counts: Wildlife Society Bulletin, v. 41, no. 3, p. 461–470. 10.1002/wsb.800\n",
      "<pymongo.results.UpdateResult object at 0x11388aa20>\n",
      "Baxter, J.J., Baxter, R.J., Dahlgren, D.K., and Larsen, R.T., 2017, Resource selection by greater sage-grouse reveals preference for mechanically-altered habitats: Rangeland Ecology and Management, v. 70, no. 4, p. 493–503. 10.1016/j.rama.2017.01.007\n",
      "<pymongo.results.UpdateResult object at 0x1137eeea0>\n",
      "Belton, L.R., Frey, S.N., and Dahlgren, D.K. 2017, Participatory research in sage-grouse local working groups—Case studies from Utah: Human-Wildlife Interactions, v. 11, no. 3, p. 287–301. 10.1016/j.rama.2017.01.007\n",
      "<pymongo.results.UpdateResult object at 0x1118ea318>\n",
      "Bentley Brymer, A.L., Holbrook, J.D., Niemeyer, R.J., Suazo, A.A., Wulfhorst, J.D., Vierling, K.T., Newingham, B.A., Link, T.E., and Rachlow, J.L., 2016, A social-ecological impact assessment for public lands management—Application of a conceptual and methodological framework: Ecology and Society, v. 21, no. 3, article 9, 22 p., https://doi.org/10.5751/ES-08569-210309. 10.5751/ES-08569-210309\n",
      "<pymongo.results.UpdateResult object at 0x1137ee1b0>\n",
      "Blomberg, E.J., 2015, The influence of harvest timing on greater sage-grouse survival—A cautionary perspective: Journal of Wildlife Management, v. 79, no. 5, p. 695–703. 10.1002/jwmg.887\n",
      "<pymongo.results.UpdateResult object at 0x11386ac18>\n",
      "Blomberg, E.J., Gibson, D., Atamian, M.T., and Sedinger, J.S., 2017, Variable drivers of primary versus secondary nesting—Density-dependence and drought effects on greater sage-grouse: Journal of Avian Biology, v. 48, no. 6, p. 827–836. 10.1111/jav.00988\n",
      "<pymongo.results.UpdateResult object at 0x113810c60>\n",
      "Bombaci, S., and Pejchar, L., 2016, Consequences of pinyon and juniper woodland reduction for wildlife in North America: Forest Ecology and Management, v. 365, p. 34–50. 10.1016/j.foreco.2016.01.018\n",
      "<pymongo.results.UpdateResult object at 0x1138aabd0>\n",
      "Boyd C.S., Kerby, J.D., Svejcar, T.J., Bates, J.D., Johnson, D.D. and Davies, K.W., 2017, The sage-grouse habitat mortgage—Effective conifer management in space and time: Rangeland Ecology and Management, v. 70, no. 1, p. 141–148. 10.1016/j.rama.2016.08.012\n",
      "<pymongo.results.UpdateResult object at 0x1137ee1b0>\n",
      "Boyte, S.P., Wylie, B.K., and Major, D.J., 2016, Cheatgrass percent cover change—Comparing recent estimates to climate change–driven predictions in the northern Great Basin: Rangeland Ecology and Management, v. 69, no. 4, p. 265–279. 10.1016/j.rama.2016.03.002\n",
      "<pymongo.results.UpdateResult object at 0x113035fc0>\n",
      "Braun, C.E., and Schroeder, M.A., 2015, Age and sex identification from wings of sage-grouse: Wildlife Society Bulletin, v. 39, no. 1, p. 182–187. 10.1002/wsb.517\n",
      "<pymongo.results.UpdateResult object at 0x11386ad80>\n",
      "Braun, C.E., and Williams, S.O., 2015, History of sage-grouse (Centrocercus spp.) in New Mexico: Southwestern Naturalist, v. 60, no. 2–3, p. 207–212. 10.1894/MCG-14.1\n",
      "<pymongo.results.UpdateResult object at 0x1137eeea0>\n",
      "Brooks, M.L., Matchett, J.R., Shinneman, D.J., and Coates, P.S., 2015, Fire patterns in the range of the greater sage-grouse, 1984–2013—Implications for conservation and management: U.S. Geological Survey Open-File Report 2015–1167, 66 p., https://doi.org/10.3133/ofr20151167. 10.3133/ofr20151167\n",
      "<pymongo.results.UpdateResult object at 0x11386aca8>\n",
      "Cade, B.S., 2015, Model averaging and muddled multimodel inferences: Ecology, v. 96, no. 9, p. 2370–2382. 10.1890/14-1639.1.sm\n"
     ]
    },
    {
     "ename": "IndexError",
     "evalue": "list index out of range",
     "output_type": "error",
     "traceback": [
      "\u001b[0;31m---------------------------------------------------------------------------\u001b[0m",
      "\u001b[0;31mIndexError\u001b[0m                                Traceback (most recent call last)",
      "\u001b[0;32m<ipython-input-3-5f7ed29e5505>\u001b[0m in \u001b[0;36m<module>\u001b[0;34m()\u001b[0m\n\u001b[1;32m      7\u001b[0m     \u001b[0mprint\u001b[0m \u001b[0;34m(\u001b[0m\u001b[0mrecord\u001b[0m\u001b[0;34m[\u001b[0m\u001b[0;34m\"Citation String\"\u001b[0m\u001b[0;34m]\u001b[0m\u001b[0;34m,\u001b[0m \u001b[0mdoiString\u001b[0m\u001b[0;34m)\u001b[0m\u001b[0;34m\u001b[0m\u001b[0m\n\u001b[1;32m      8\u001b[0m \u001b[0;34m\u001b[0m\u001b[0m\n\u001b[0;32m----> 9\u001b[0;31m     \u001b[0mcrossRefRecord\u001b[0m \u001b[0;34m=\u001b[0m \u001b[0mrrl\u001b[0m\u001b[0;34m.\u001b[0m\u001b[0mResearchReferenceLibrary\u001b[0m\u001b[0;34m.\u001b[0m\u001b[0mlookup_crossref\u001b[0m\u001b[0;34m(\u001b[0m\u001b[0mrecord\u001b[0m\u001b[0;34m[\u001b[0m\u001b[0;34m\"Citation String\"\u001b[0m\u001b[0;34m]\u001b[0m\u001b[0;34m,\u001b[0m\u001b[0mdoi\u001b[0m\u001b[0;34m=\u001b[0m\u001b[0mdoiString\u001b[0m\u001b[0;34m)\u001b[0m\u001b[0;34m\u001b[0m\u001b[0m\n\u001b[0m\u001b[1;32m     10\u001b[0m \u001b[0;34m\u001b[0m\u001b[0m\n\u001b[1;32m     11\u001b[0m     \u001b[0mcrossRefData\u001b[0m \u001b[0;34m=\u001b[0m \u001b[0;34m{\u001b[0m\u001b[0;34m\"success\"\u001b[0m\u001b[0;34m:\u001b[0m\u001b[0;32mFalse\u001b[0m\u001b[0;34m,\u001b[0m\u001b[0;34m\"datetime\"\u001b[0m\u001b[0;34m:\u001b[0m\u001b[0mdatetime\u001b[0m\u001b[0;34m.\u001b[0m\u001b[0mutcnow\u001b[0m\u001b[0;34m(\u001b[0m\u001b[0;34m)\u001b[0m\u001b[0;34m.\u001b[0m\u001b[0misoformat\u001b[0m\u001b[0;34m(\u001b[0m\u001b[0;34m)\u001b[0m\u001b[0;34m}\u001b[0m\u001b[0;34m\u001b[0m\u001b[0m\n",
      "\u001b[0;32m~/code/bis/bis/rrl.py\u001b[0m in \u001b[0;36mlookup_crossref\u001b[0;34m(citation, doi, threshold)\u001b[0m\n\u001b[1;32m     48\u001b[0m             \u001b[0;32mreturn\u001b[0m \u001b[0;32mNone\u001b[0m\u001b[0;34m\u001b[0m\u001b[0m\n\u001b[1;32m     49\u001b[0m \u001b[0;34m\u001b[0m\u001b[0m\n\u001b[0;32m---> 50\u001b[0;31m         \u001b[0;32mif\u001b[0m \u001b[0mcrossRefResults\u001b[0m\u001b[0;34m[\u001b[0m\u001b[0;34m\"message\"\u001b[0m\u001b[0;34m]\u001b[0m\u001b[0;34m[\u001b[0m\u001b[0;34m\"total-results\"\u001b[0m\u001b[0;34m]\u001b[0m \u001b[0;34m==\u001b[0m \u001b[0;36m1\u001b[0m \u001b[0;32mor\u001b[0m \u001b[0mcrossRefResults\u001b[0m\u001b[0;34m[\u001b[0m\u001b[0;34m\"message\"\u001b[0m\u001b[0;34m]\u001b[0m\u001b[0;34m[\u001b[0m\u001b[0;34m\"items\"\u001b[0m\u001b[0;34m]\u001b[0m\u001b[0;34m[\u001b[0m\u001b[0;36m0\u001b[0m\u001b[0;34m]\u001b[0m\u001b[0;34m[\u001b[0m\u001b[0;34m\"score\"\u001b[0m\u001b[0;34m]\u001b[0m \u001b[0;34m>=\u001b[0m \u001b[0mthreshold\u001b[0m\u001b[0;34m:\u001b[0m\u001b[0;34m\u001b[0m\u001b[0m\n\u001b[0m\u001b[1;32m     51\u001b[0m             \u001b[0;32mreturn\u001b[0m \u001b[0mcrossRefResults\u001b[0m\u001b[0;34m[\u001b[0m\u001b[0;34m\"message\"\u001b[0m\u001b[0;34m]\u001b[0m\u001b[0;34m[\u001b[0m\u001b[0;34m\"items\"\u001b[0m\u001b[0;34m]\u001b[0m\u001b[0;34m[\u001b[0m\u001b[0;36m0\u001b[0m\u001b[0;34m]\u001b[0m\u001b[0;34m\u001b[0m\u001b[0m\n\u001b[1;32m     52\u001b[0m         \u001b[0;32melse\u001b[0m\u001b[0;34m:\u001b[0m\u001b[0;34m\u001b[0m\u001b[0m\n",
      "\u001b[0;31mIndexError\u001b[0m: list index out of range"
     ]
    }
   ],
   "source": [
    "for record in collection_rrl.find({\"CrossRef\":{\"$exists\":False}}):\n",
    "    if \"url\" in record.keys() and record[\"url\"].find(\"doi.org\") > 0:\n",
    "        doiString = '/'.join(record[\"url\"].split(\"/\")[-2:])\n",
    "    else:\n",
    "        doiString = None\n",
    "    \n",
    "    print (record[\"Citation String\"], doiString)\n",
    "\n",
    "    crossRefRecord = rrl.ResearchReferenceLibrary.lookup_crossref(record[\"Citation String\"],doi=doiString)\n",
    "    \n",
    "    crossRefData = {\"success\":False,\"datetime\":datetime.utcnow().isoformat()}\n",
    "    \n",
    "    if crossRefRecord is not None:\n",
    "        crossRefData[\"success\"] = True\n",
    "        crossRefData[\"record\"] = crossRefRecord\n",
    "        \n",
    "    print (collection_rrl.update_one({\"_id\":record[\"_id\"]},{\"$set\":{\"CrossRef\":crossRefData}}))"
   ]
  },
  {
   "cell_type": "code",
   "execution_count": null,
   "metadata": {
    "collapsed": true
   },
   "outputs": [],
   "source": []
  }
 ],
 "metadata": {
  "kernelspec": {
   "display_name": "Python 3",
   "language": "python",
   "name": "python3"
  },
  "language_info": {
   "codemirror_mode": {
    "name": "ipython",
    "version": 3
   },
   "file_extension": ".py",
   "mimetype": "text/x-python",
   "name": "python",
   "nbconvert_exporter": "python",
   "pygments_lexer": "ipython3",
   "version": "3.6.3"
  }
 },
 "nbformat": 4,
 "nbformat_minor": 2
}
